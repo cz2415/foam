{
 "cells": [
  {
   "cell_type": "markdown",
   "metadata": {},
   "source": [
    "### 连接数据库"
   ]
  },
  {
   "cell_type": "code",
   "execution_count": 110,
   "metadata": {},
   "outputs": [
    {
     "name": "stdout",
     "output_type": "stream",
     "text": [
      "数据库打开成功\n"
     ]
    }
   ],
   "source": [
    "import sqlite3\n",
    "\n",
    "conn = sqlite3.connect('../../temp/test.db')\n",
    "\n",
    "print(\"数据库打开成功\")\n"
   ]
  },
  {
   "cell_type": "markdown",
   "metadata": {},
   "source": [
    "### 创建表"
   ]
  },
  {
   "cell_type": "code",
   "execution_count": 111,
   "metadata": {},
   "outputs": [
    {
     "name": "stdout",
     "output_type": "stream",
     "text": [
      "数据表创建成功\n"
     ]
    }
   ],
   "source": [
    "c = conn.cursor()\n",
    "c.execute('''CREATE TABLE COMPANY(\n",
    "                     ID INT PRIMARY  KEY     NOT NULL,\n",
    "                     NAME            TEXT    NOT NULL,\n",
    "                     AGE             INT     NOT NULL,\n",
    "                     ADDRESS         CHAR(50),\n",
    "                     SALARY          REAL);''')\n",
    "print(\"数据表创建成功\")\n",
    "conn.commit()\n"
   ]
  },
  {
   "cell_type": "markdown",
   "metadata": {},
   "source": [
    "### 插入数据"
   ]
  },
  {
   "cell_type": "code",
   "execution_count": 112,
   "metadata": {},
   "outputs": [
    {
     "name": "stdout",
     "output_type": "stream",
     "text": [
      "数据插入成功\n"
     ]
    }
   ],
   "source": [
    "c.execute(\"INSERT INTO COMPANY (ID,NAME,AGE,ADDRESS,SALARY) VALUES (1, 'Paul', 32, 'California', 20000.00 )\")\n",
    "c.execute(\"INSERT INTO COMPANY (ID,NAME,AGE,ADDRESS,SALARY) VALUES (2, 'Allen', 25, 'Texas', 15000.00 )\")\n",
    "c.execute(\"INSERT INTO COMPANY (ID,NAME,AGE,ADDRESS,SALARY) VALUES (3, 'Teddy', 23, 'Norway', 20000.00 )\")\n",
    "c.execute(\"INSERT INTO COMPANY (ID,NAME,AGE,ADDRESS,SALARY) VALUES (4, 'Mark', 25, 'Rich-Mond ', 65000.00 )\")\n",
    "\n",
    "conn.commit()\n",
    "print(\"数据插入成功\")\n"
   ]
  },
  {
   "cell_type": "markdown",
   "metadata": {},
   "source": [
    "### 查询数据"
   ]
  },
  {
   "cell_type": "code",
   "execution_count": 113,
   "metadata": {},
   "outputs": [
    {
     "name": "stdout",
     "output_type": "stream",
     "text": [
      "(1, 'Paul', 'California', 20000.0)\n",
      "(2, 'Allen', 'Texas', 15000.0)\n",
      "(3, 'Teddy', 'Norway', 20000.0)\n",
      "(4, 'Mark', 'Rich-Mond ', 65000.0)\n",
      "数据操作成功\n"
     ]
    }
   ],
   "source": [
    "cursor = c.execute(\"SELECT id, name, address, salary  from COMPANY\")\n",
    "for row in cursor:\n",
    "    print(row)\n",
    "\n",
    "print (\"数据操作成功\")"
   ]
  },
  {
   "cell_type": "markdown",
   "metadata": {},
   "source": [
    "### 修改数据"
   ]
  },
  {
   "cell_type": "code",
   "execution_count": 114,
   "metadata": {},
   "outputs": [
    {
     "name": "stdout",
     "output_type": "stream",
     "text": [
      "Total number of rows updated : 5\n",
      "(1, 'Paul', 'California', 25000.0)\n",
      "(2, 'Allen', 'Texas', 15000.0)\n",
      "(3, 'Teddy', 'Norway', 20000.0)\n",
      "(4, 'Mark', 'Rich-Mond ', 65000.0)\n",
      "数据操作成功\n"
     ]
    }
   ],
   "source": [
    "c.execute(\"UPDATE COMPANY set SALARY = 25000.00 where ID=1\")\n",
    "conn.commit()\n",
    "print(\"Total number of rows updated :\", conn.total_changes)\n",
    "\n",
    "cursor = conn.execute(\"SELECT id, name, address, salary  from COMPANY\")\n",
    "for row in cursor:\n",
    "    print(row)\n",
    "\n",
    "print(\"数据操作成功\")\n"
   ]
  },
  {
   "cell_type": "markdown",
   "metadata": {},
   "source": [
    "### 删除数据"
   ]
  },
  {
   "cell_type": "code",
   "execution_count": 115,
   "metadata": {},
   "outputs": [
    {
     "name": "stdout",
     "output_type": "stream",
     "text": [
      "Total number of rows deleted : 6\n",
      "(1, 'Paul', 'California', 25000.0)\n",
      "(3, 'Teddy', 'Norway', 20000.0)\n",
      "(4, 'Mark', 'Rich-Mond ', 65000.0)\n",
      "数据操作成功\n"
     ]
    }
   ],
   "source": [
    "c.execute(\"DELETE from COMPANY where ID=2;\")\n",
    "conn.commit()\n",
    "print(\"Total number of rows deleted :\", conn.total_changes)\n",
    "\n",
    "cursor = conn.execute(\"SELECT id, name, address, salary  from COMPANY\")\n",
    "for row in cursor:\n",
    "    print(row)\n",
    "\n",
    "print(\"数据操作成功\")"
   ]
  },
  {
   "cell_type": "markdown",
   "metadata": {},
   "source": [
    "## 查询结果为dict"
   ]
  },
  {
   "cell_type": "code",
   "execution_count": 116,
   "metadata": {},
   "outputs": [
    {
     "name": "stdout",
     "output_type": "stream",
     "text": [
      "{'ID': 1, 'NAME': 'Paul', 'ADDRESS': 'California', 'SALARY': 25000.0}\n",
      "{'ID': 3, 'NAME': 'Teddy', 'ADDRESS': 'Norway', 'SALARY': 20000.0}\n",
      "{'ID': 4, 'NAME': 'Mark', 'ADDRESS': 'Rich-Mond ', 'SALARY': 65000.0}\n"
     ]
    }
   ],
   "source": [
    "conn.row_factory = sqlite3.Row\n",
    "c = conn.cursor()\n",
    "c.execute('SELECT id, name, address, salary  from COMPANY')\n",
    "\n",
    "result =  [dict(row) for row in c.fetchall()]\n",
    "for r in result:\n",
    "    print(r)"
   ]
  },
  {
   "cell_type": "markdown",
   "metadata": {},
   "source": [
    "### 删除表"
   ]
  },
  {
   "cell_type": "code",
   "execution_count": 117,
   "metadata": {},
   "outputs": [
    {
     "name": "stdout",
     "output_type": "stream",
     "text": [
      "数据操作成功\n"
     ]
    }
   ],
   "source": [
    "c.execute(\"DROP table  COMPANY\")\n",
    "conn.commit()\n",
    "print(\"数据操作成功\")\n",
    "conn.close()\n"
   ]
  }
 ],
 "metadata": {
  "kernelspec": {
   "display_name": "Python 3",
   "language": "python",
   "name": "python3"
  },
  "language_info": {
   "codemirror_mode": {
    "name": "ipython",
    "version": 3
   },
   "file_extension": ".py",
   "mimetype": "text/x-python",
   "name": "python",
   "nbconvert_exporter": "python",
   "pygments_lexer": "ipython3",
   "version": "3.10.7"
  },
  "orig_nbformat": 4,
  "vscode": {
   "interpreter": {
    "hash": "9bbdbe065ded5f51baf817e06aaddeb6a941e48b38f3a203227e05590a9957b9"
   }
  }
 },
 "nbformat": 4,
 "nbformat_minor": 2
}
